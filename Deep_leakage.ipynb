{
  "cells": [
    {
      "cell_type": "code",
      "execution_count": null,
      "metadata": {
        "colab": {
          "base_uri": "https://localhost:8080/"
        },
        "id": "24D_EXL9oqEf",
        "outputId": "fc0f8f56-0200-463c-ec7c-9f6491dbd347"
      },
      "outputs": [
        {
          "output_type": "stream",
          "name": "stdout",
          "text": [
            "Collecting TensorFlow-privacy\n",
            "  Downloading tensorflow_privacy-0.8.12-py3-none-any.whl (405 kB)\n",
            "\u001b[2K     \u001b[90m━━━━━━━━━━━━━━━━━━━━━━━━━━━━━━━━━━━━━━━━\u001b[0m \u001b[32m405.5/405.5 kB\u001b[0m \u001b[31m2.4 MB/s\u001b[0m eta \u001b[36m0:00:00\u001b[0m\n",
            "\u001b[?25hRequirement already satisfied: absl-py==1.*,>=1.0 in /usr/local/lib/python3.10/dist-packages (from TensorFlow-privacy) (1.4.0)\n",
            "Requirement already satisfied: attrs>=21.4 in /usr/local/lib/python3.10/dist-packages (from TensorFlow-privacy) (23.2.0)\n",
            "Requirement already satisfied: dm-tree==0.1.8 in /usr/local/lib/python3.10/dist-packages (from TensorFlow-privacy) (0.1.8)\n",
            "Collecting dp-accounting==0.4.3 (from TensorFlow-privacy)\n",
            "  Downloading dp_accounting-0.4.3-py3-none-any.whl (104 kB)\n",
            "\u001b[2K     \u001b[90m━━━━━━━━━━━━━━━━━━━━━━━━━━━━━━━━━━━━━━━━\u001b[0m \u001b[32m104.8/104.8 kB\u001b[0m \u001b[31m7.0 MB/s\u001b[0m eta \u001b[36m0:00:00\u001b[0m\n",
            "\u001b[?25hCollecting immutabledict~=2.2 (from TensorFlow-privacy)\n",
            "  Downloading immutabledict-2.2.5-py3-none-any.whl (4.1 kB)\n",
            "Requirement already satisfied: matplotlib~=3.3 in /usr/local/lib/python3.10/dist-packages (from TensorFlow-privacy) (3.7.1)\n",
            "Requirement already satisfied: numpy~=1.21 in /usr/local/lib/python3.10/dist-packages (from TensorFlow-privacy) (1.23.5)\n",
            "Collecting packaging~=22.0 (from TensorFlow-privacy)\n",
            "  Downloading packaging-22.0-py3-none-any.whl (42 kB)\n",
            "\u001b[2K     \u001b[90m━━━━━━━━━━━━━━━━━━━━━━━━━━━━━━━━━━━━━━━━\u001b[0m \u001b[32m42.6/42.6 kB\u001b[0m \u001b[31m4.0 MB/s\u001b[0m eta \u001b[36m0:00:00\u001b[0m\n",
            "\u001b[?25hRequirement already satisfied: pandas~=1.4 in /usr/local/lib/python3.10/dist-packages (from TensorFlow-privacy) (1.5.3)\n",
            "Requirement already satisfied: scikit-learn==1.*,>=1.0 in /usr/local/lib/python3.10/dist-packages (from TensorFlow-privacy) (1.2.2)\n",
            "Requirement already satisfied: scipy~=1.9 in /usr/local/lib/python3.10/dist-packages (from TensorFlow-privacy) (1.11.4)\n",
            "Requirement already satisfied: statsmodels~=0.13 in /usr/local/lib/python3.10/dist-packages (from TensorFlow-privacy) (0.14.1)\n",
            "Requirement already satisfied: tensorflow-estimator~=2.4 in /usr/local/lib/python3.10/dist-packages (from TensorFlow-privacy) (2.15.0)\n",
            "Requirement already satisfied: tensorflow-probability~=0.22.0 in /usr/local/lib/python3.10/dist-packages (from TensorFlow-privacy) (0.22.0)\n",
            "Requirement already satisfied: tensorflow~=2.4 in /usr/local/lib/python3.10/dist-packages (from TensorFlow-privacy) (2.15.0)\n",
            "Collecting tf-models-official~=2.13 (from TensorFlow-privacy)\n",
            "  Downloading tf_models_official-2.15.0-py2.py3-none-any.whl (2.7 MB)\n",
            "\u001b[2K     \u001b[90m━━━━━━━━━━━━━━━━━━━━━━━━━━━━━━━━━━━━━━━━\u001b[0m \u001b[32m2.7/2.7 MB\u001b[0m \u001b[31m5.9 MB/s\u001b[0m eta \u001b[36m0:00:00\u001b[0m\n",
            "\u001b[?25hRequirement already satisfied: mpmath~=1.2 in /usr/local/lib/python3.10/dist-packages (from dp-accounting==0.4.3->TensorFlow-privacy) (1.3.0)\n",
            "Requirement already satisfied: joblib>=1.1.1 in /usr/local/lib/python3.10/dist-packages (from scikit-learn==1.*,>=1.0->TensorFlow-privacy) (1.3.2)\n",
            "Requirement already satisfied: threadpoolctl>=2.0.0 in /usr/local/lib/python3.10/dist-packages (from scikit-learn==1.*,>=1.0->TensorFlow-privacy) (3.2.0)\n",
            "Requirement already satisfied: contourpy>=1.0.1 in /usr/local/lib/python3.10/dist-packages (from matplotlib~=3.3->TensorFlow-privacy) (1.2.0)\n",
            "Requirement already satisfied: cycler>=0.10 in /usr/local/lib/python3.10/dist-packages (from matplotlib~=3.3->TensorFlow-privacy) (0.12.1)\n",
            "Requirement already satisfied: fonttools>=4.22.0 in /usr/local/lib/python3.10/dist-packages (from matplotlib~=3.3->TensorFlow-privacy) (4.47.2)\n",
            "Requirement already satisfied: kiwisolver>=1.0.1 in /usr/local/lib/python3.10/dist-packages (from matplotlib~=3.3->TensorFlow-privacy) (1.4.5)\n",
            "Requirement already satisfied: pillow>=6.2.0 in /usr/local/lib/python3.10/dist-packages (from matplotlib~=3.3->TensorFlow-privacy) (9.4.0)\n",
            "Requirement already satisfied: pyparsing>=2.3.1 in /usr/local/lib/python3.10/dist-packages (from matplotlib~=3.3->TensorFlow-privacy) (3.1.1)\n",
            "Requirement already satisfied: python-dateutil>=2.7 in /usr/local/lib/python3.10/dist-packages (from matplotlib~=3.3->TensorFlow-privacy) (2.8.2)\n",
            "Requirement already satisfied: pytz>=2020.1 in /usr/local/lib/python3.10/dist-packages (from pandas~=1.4->TensorFlow-privacy) (2023.3.post1)\n",
            "Requirement already satisfied: patsy>=0.5.4 in /usr/local/lib/python3.10/dist-packages (from statsmodels~=0.13->TensorFlow-privacy) (0.5.6)\n",
            "Requirement already satisfied: astunparse>=1.6.0 in /usr/local/lib/python3.10/dist-packages (from tensorflow~=2.4->TensorFlow-privacy) (1.6.3)\n",
            "Requirement already satisfied: flatbuffers>=23.5.26 in /usr/local/lib/python3.10/dist-packages (from tensorflow~=2.4->TensorFlow-privacy) (23.5.26)\n",
            "Requirement already satisfied: gast!=0.5.0,!=0.5.1,!=0.5.2,>=0.2.1 in /usr/local/lib/python3.10/dist-packages (from tensorflow~=2.4->TensorFlow-privacy) (0.5.4)\n",
            "Requirement already satisfied: google-pasta>=0.1.1 in /usr/local/lib/python3.10/dist-packages (from tensorflow~=2.4->TensorFlow-privacy) (0.2.0)\n",
            "Requirement already satisfied: h5py>=2.9.0 in /usr/local/lib/python3.10/dist-packages (from tensorflow~=2.4->TensorFlow-privacy) (3.9.0)\n",
            "Requirement already satisfied: libclang>=13.0.0 in /usr/local/lib/python3.10/dist-packages (from tensorflow~=2.4->TensorFlow-privacy) (16.0.6)\n",
            "Requirement already satisfied: ml-dtypes~=0.2.0 in /usr/local/lib/python3.10/dist-packages (from tensorflow~=2.4->TensorFlow-privacy) (0.2.0)\n",
            "Requirement already satisfied: opt-einsum>=2.3.2 in /usr/local/lib/python3.10/dist-packages (from tensorflow~=2.4->TensorFlow-privacy) (3.3.0)\n",
            "Requirement already satisfied: protobuf!=4.21.0,!=4.21.1,!=4.21.2,!=4.21.3,!=4.21.4,!=4.21.5,<5.0.0dev,>=3.20.3 in /usr/local/lib/python3.10/dist-packages (from tensorflow~=2.4->TensorFlow-privacy) (3.20.3)\n",
            "Requirement already satisfied: setuptools in /usr/local/lib/python3.10/dist-packages (from tensorflow~=2.4->TensorFlow-privacy) (67.7.2)\n",
            "Requirement already satisfied: six>=1.12.0 in /usr/local/lib/python3.10/dist-packages (from tensorflow~=2.4->TensorFlow-privacy) (1.16.0)\n",
            "Requirement already satisfied: termcolor>=1.1.0 in /usr/local/lib/python3.10/dist-packages (from tensorflow~=2.4->TensorFlow-privacy) (2.4.0)\n",
            "Requirement already satisfied: typing-extensions>=3.6.6 in /usr/local/lib/python3.10/dist-packages (from tensorflow~=2.4->TensorFlow-privacy) (4.5.0)\n",
            "Requirement already satisfied: wrapt<1.15,>=1.11.0 in /usr/local/lib/python3.10/dist-packages (from tensorflow~=2.4->TensorFlow-privacy) (1.14.1)\n",
            "Requirement already satisfied: tensorflow-io-gcs-filesystem>=0.23.1 in /usr/local/lib/python3.10/dist-packages (from tensorflow~=2.4->TensorFlow-privacy) (0.35.0)\n",
            "Requirement already satisfied: grpcio<2.0,>=1.24.3 in /usr/local/lib/python3.10/dist-packages (from tensorflow~=2.4->TensorFlow-privacy) (1.60.0)\n",
            "Requirement already satisfied: tensorboard<2.16,>=2.15 in /usr/local/lib/python3.10/dist-packages (from tensorflow~=2.4->TensorFlow-privacy) (2.15.1)\n",
            "Requirement already satisfied: keras<2.16,>=2.15.0 in /usr/local/lib/python3.10/dist-packages (from tensorflow~=2.4->TensorFlow-privacy) (2.15.0)\n",
            "Requirement already satisfied: decorator in /usr/local/lib/python3.10/dist-packages (from tensorflow-probability~=0.22.0->TensorFlow-privacy) (4.4.2)\n",
            "Requirement already satisfied: cloudpickle>=1.3 in /usr/local/lib/python3.10/dist-packages (from tensorflow-probability~=0.22.0->TensorFlow-privacy) (2.2.1)\n",
            "Requirement already satisfied: Cython in /usr/local/lib/python3.10/dist-packages (from tf-models-official~=2.13->TensorFlow-privacy) (3.0.8)\n",
            "Requirement already satisfied: gin-config in /usr/local/lib/python3.10/dist-packages (from tf-models-official~=2.13->TensorFlow-privacy) (0.5.0)\n",
            "Requirement already satisfied: google-api-python-client>=1.6.7 in /usr/local/lib/python3.10/dist-packages (from tf-models-official~=2.13->TensorFlow-privacy) (2.84.0)\n",
            "Requirement already satisfied: kaggle>=1.3.9 in /usr/local/lib/python3.10/dist-packages (from tf-models-official~=2.13->TensorFlow-privacy) (1.5.16)\n",
            "Requirement already satisfied: oauth2client in /usr/local/lib/python3.10/dist-packages (from tf-models-official~=2.13->TensorFlow-privacy) (4.1.3)\n",
            "Requirement already satisfied: opencv-python-headless in /usr/local/lib/python3.10/dist-packages (from tf-models-official~=2.13->TensorFlow-privacy) (4.9.0.80)\n",
            "Requirement already satisfied: psutil>=5.4.3 in /usr/local/lib/python3.10/dist-packages (from tf-models-official~=2.13->TensorFlow-privacy) (5.9.5)\n",
            "Requirement already satisfied: py-cpuinfo>=3.3.0 in /usr/local/lib/python3.10/dist-packages (from tf-models-official~=2.13->TensorFlow-privacy) (9.0.0)\n",
            "Requirement already satisfied: pycocotools in /usr/local/lib/python3.10/dist-packages (from tf-models-official~=2.13->TensorFlow-privacy) (2.0.7)\n",
            "Requirement already satisfied: pyyaml>=6.0.0 in /usr/local/lib/python3.10/dist-packages (from tf-models-official~=2.13->TensorFlow-privacy) (6.0.1)\n",
            "Collecting sacrebleu (from tf-models-official~=2.13->TensorFlow-privacy)\n",
            "  Downloading sacrebleu-2.4.0-py3-none-any.whl (106 kB)\n",
            "\u001b[2K     \u001b[90m━━━━━━━━━━━━━━━━━━━━━━━━━━━━━━━━━━━━━━━━\u001b[0m \u001b[32m106.3/106.3 kB\u001b[0m \u001b[31m5.7 MB/s\u001b[0m eta \u001b[36m0:00:00\u001b[0m\n",
            "\u001b[?25hCollecting sentencepiece (from tf-models-official~=2.13->TensorFlow-privacy)\n",
            "  Downloading sentencepiece-0.1.99-cp310-cp310-manylinux_2_17_x86_64.manylinux2014_x86_64.whl (1.3 MB)\n",
            "\u001b[2K     \u001b[90m━━━━━━━━━━━━━━━━━━━━━━━━━━━━━━━━━━━━━━━━\u001b[0m \u001b[32m1.3/1.3 MB\u001b[0m \u001b[31m4.8 MB/s\u001b[0m eta \u001b[36m0:00:00\u001b[0m\n",
            "\u001b[?25hCollecting seqeval (from tf-models-official~=2.13->TensorFlow-privacy)\n",
            "  Downloading seqeval-1.2.2.tar.gz (43 kB)\n",
            "\u001b[2K     \u001b[90m━━━━━━━━━━━━━━━━━━━━━━━━━━━━━━━━━━━━━━━━\u001b[0m \u001b[32m43.6/43.6 kB\u001b[0m \u001b[31m3.0 MB/s\u001b[0m eta \u001b[36m0:00:00\u001b[0m\n",
            "\u001b[?25h  Preparing metadata (setup.py) ... \u001b[?25l\u001b[?25hdone\n",
            "Requirement already satisfied: tensorflow-datasets in /usr/local/lib/python3.10/dist-packages (from tf-models-official~=2.13->TensorFlow-privacy) (4.9.4)\n",
            "Requirement already satisfied: tensorflow-hub>=0.6.0 in /usr/local/lib/python3.10/dist-packages (from tf-models-official~=2.13->TensorFlow-privacy) (0.15.0)\n",
            "Collecting tensorflow-model-optimization>=0.4.1 (from tf-models-official~=2.13->TensorFlow-privacy)\n",
            "  Downloading tensorflow_model_optimization-0.7.5-py2.py3-none-any.whl (241 kB)\n",
            "\u001b[2K     \u001b[90m━━━━━━━━━━━━━━━━━━━━━━━━━━━━━━━━━━━━━━━━\u001b[0m \u001b[32m241.2/241.2 kB\u001b[0m \u001b[31m4.0 MB/s\u001b[0m eta \u001b[36m0:00:00\u001b[0m\n",
            "\u001b[?25hCollecting tensorflow-text~=2.15.0 (from tf-models-official~=2.13->TensorFlow-privacy)\n",
            "  Downloading tensorflow_text-2.15.0-cp310-cp310-manylinux_2_17_x86_64.manylinux2014_x86_64.whl (5.2 MB)\n",
            "\u001b[2K     \u001b[90m━━━━━━━━━━━━━━━━━━━━━━━━━━━━━━━━━━━━━━━━\u001b[0m \u001b[32m5.2/5.2 MB\u001b[0m \u001b[31m2.9 MB/s\u001b[0m eta \u001b[36m0:00:00\u001b[0m\n",
            "\u001b[?25hRequirement already satisfied: tf-slim>=1.1.0 in /usr/local/lib/python3.10/dist-packages (from tf-models-official~=2.13->TensorFlow-privacy) (1.1.0)\n",
            "Requirement already satisfied: wheel<1.0,>=0.23.0 in /usr/local/lib/python3.10/dist-packages (from astunparse>=1.6.0->tensorflow~=2.4->TensorFlow-privacy) (0.42.0)\n",
            "Requirement already satisfied: httplib2<1dev,>=0.15.0 in /usr/local/lib/python3.10/dist-packages (from google-api-python-client>=1.6.7->tf-models-official~=2.13->TensorFlow-privacy) (0.22.0)\n",
            "Requirement already satisfied: google-auth<3.0.0dev,>=1.19.0 in /usr/local/lib/python3.10/dist-packages (from google-api-python-client>=1.6.7->tf-models-official~=2.13->TensorFlow-privacy) (2.17.3)\n",
            "Requirement already satisfied: google-auth-httplib2>=0.1.0 in /usr/local/lib/python3.10/dist-packages (from google-api-python-client>=1.6.7->tf-models-official~=2.13->TensorFlow-privacy) (0.1.1)\n",
            "Requirement already satisfied: google-api-core!=2.0.*,!=2.1.*,!=2.2.*,!=2.3.0,<3.0.0dev,>=1.31.5 in /usr/local/lib/python3.10/dist-packages (from google-api-python-client>=1.6.7->tf-models-official~=2.13->TensorFlow-privacy) (2.11.1)\n",
            "Requirement already satisfied: uritemplate<5,>=3.0.1 in /usr/local/lib/python3.10/dist-packages (from google-api-python-client>=1.6.7->tf-models-official~=2.13->TensorFlow-privacy) (4.1.1)\n",
            "Requirement already satisfied: certifi in /usr/local/lib/python3.10/dist-packages (from kaggle>=1.3.9->tf-models-official~=2.13->TensorFlow-privacy) (2023.11.17)\n",
            "Requirement already satisfied: requests in /usr/local/lib/python3.10/dist-packages (from kaggle>=1.3.9->tf-models-official~=2.13->TensorFlow-privacy) (2.31.0)\n",
            "Requirement already satisfied: tqdm in /usr/local/lib/python3.10/dist-packages (from kaggle>=1.3.9->tf-models-official~=2.13->TensorFlow-privacy) (4.66.1)\n",
            "Requirement already satisfied: python-slugify in /usr/local/lib/python3.10/dist-packages (from kaggle>=1.3.9->tf-models-official~=2.13->TensorFlow-privacy) (8.0.1)\n",
            "Requirement already satisfied: urllib3 in /usr/local/lib/python3.10/dist-packages (from kaggle>=1.3.9->tf-models-official~=2.13->TensorFlow-privacy) (2.0.7)\n",
            "Requirement already satisfied: bleach in /usr/local/lib/python3.10/dist-packages (from kaggle>=1.3.9->tf-models-official~=2.13->TensorFlow-privacy) (6.1.0)\n",
            "Requirement already satisfied: google-auth-oauthlib<2,>=0.5 in /usr/local/lib/python3.10/dist-packages (from tensorboard<2.16,>=2.15->tensorflow~=2.4->TensorFlow-privacy) (1.2.0)\n",
            "Requirement already satisfied: markdown>=2.6.8 in /usr/local/lib/python3.10/dist-packages (from tensorboard<2.16,>=2.15->tensorflow~=2.4->TensorFlow-privacy) (3.5.2)\n",
            "Requirement already satisfied: tensorboard-data-server<0.8.0,>=0.7.0 in /usr/local/lib/python3.10/dist-packages (from tensorboard<2.16,>=2.15->tensorflow~=2.4->TensorFlow-privacy) (0.7.2)\n",
            "Requirement already satisfied: werkzeug>=1.0.1 in /usr/local/lib/python3.10/dist-packages (from tensorboard<2.16,>=2.15->tensorflow~=2.4->TensorFlow-privacy) (3.0.1)\n",
            "Requirement already satisfied: pyasn1>=0.1.7 in /usr/local/lib/python3.10/dist-packages (from oauth2client->tf-models-official~=2.13->TensorFlow-privacy) (0.5.1)\n",
            "Requirement already satisfied: pyasn1-modules>=0.0.5 in /usr/local/lib/python3.10/dist-packages (from oauth2client->tf-models-official~=2.13->TensorFlow-privacy) (0.3.0)\n",
            "Requirement already satisfied: rsa>=3.1.4 in /usr/local/lib/python3.10/dist-packages (from oauth2client->tf-models-official~=2.13->TensorFlow-privacy) (4.9)\n",
            "Collecting portalocker (from sacrebleu->tf-models-official~=2.13->TensorFlow-privacy)\n",
            "  Downloading portalocker-2.8.2-py3-none-any.whl (17 kB)\n",
            "Requirement already satisfied: regex in /usr/local/lib/python3.10/dist-packages (from sacrebleu->tf-models-official~=2.13->TensorFlow-privacy) (2023.6.3)\n",
            "Requirement already satisfied: tabulate>=0.8.9 in /usr/local/lib/python3.10/dist-packages (from sacrebleu->tf-models-official~=2.13->TensorFlow-privacy) (0.9.0)\n",
            "Collecting colorama (from sacrebleu->tf-models-official~=2.13->TensorFlow-privacy)\n",
            "  Downloading colorama-0.4.6-py2.py3-none-any.whl (25 kB)\n",
            "Requirement already satisfied: lxml in /usr/local/lib/python3.10/dist-packages (from sacrebleu->tf-models-official~=2.13->TensorFlow-privacy) (4.9.4)\n",
            "Requirement already satisfied: click in /usr/local/lib/python3.10/dist-packages (from tensorflow-datasets->tf-models-official~=2.13->TensorFlow-privacy) (8.1.7)\n",
            "Requirement already satisfied: etils[enp,epath,etree]>=0.9.0 in /usr/local/lib/python3.10/dist-packages (from tensorflow-datasets->tf-models-official~=2.13->TensorFlow-privacy) (1.6.0)\n",
            "Requirement already satisfied: promise in /usr/local/lib/python3.10/dist-packages (from tensorflow-datasets->tf-models-official~=2.13->TensorFlow-privacy) (2.3)\n",
            "Requirement already satisfied: tensorflow-metadata in /usr/local/lib/python3.10/dist-packages (from tensorflow-datasets->tf-models-official~=2.13->TensorFlow-privacy) (1.14.0)\n",
            "Requirement already satisfied: toml in /usr/local/lib/python3.10/dist-packages (from tensorflow-datasets->tf-models-official~=2.13->TensorFlow-privacy) (0.10.2)\n",
            "Requirement already satisfied: array-record>=0.5.0 in /usr/local/lib/python3.10/dist-packages (from tensorflow-datasets->tf-models-official~=2.13->TensorFlow-privacy) (0.5.0)\n",
            "Requirement already satisfied: fsspec in /usr/local/lib/python3.10/dist-packages (from etils[enp,epath,etree]>=0.9.0->tensorflow-datasets->tf-models-official~=2.13->TensorFlow-privacy) (2023.6.0)\n",
            "Requirement already satisfied: importlib_resources in /usr/local/lib/python3.10/dist-packages (from etils[enp,epath,etree]>=0.9.0->tensorflow-datasets->tf-models-official~=2.13->TensorFlow-privacy) (6.1.1)\n",
            "Requirement already satisfied: zipp in /usr/local/lib/python3.10/dist-packages (from etils[enp,epath,etree]>=0.9.0->tensorflow-datasets->tf-models-official~=2.13->TensorFlow-privacy) (3.17.0)\n",
            "Requirement already satisfied: googleapis-common-protos<2.0.dev0,>=1.56.2 in /usr/local/lib/python3.10/dist-packages (from google-api-core!=2.0.*,!=2.1.*,!=2.2.*,!=2.3.0,<3.0.0dev,>=1.31.5->google-api-python-client>=1.6.7->tf-models-official~=2.13->TensorFlow-privacy) (1.62.0)\n",
            "Requirement already satisfied: cachetools<6.0,>=2.0.0 in /usr/local/lib/python3.10/dist-packages (from google-auth<3.0.0dev,>=1.19.0->google-api-python-client>=1.6.7->tf-models-official~=2.13->TensorFlow-privacy) (5.3.2)\n",
            "Requirement already satisfied: requests-oauthlib>=0.7.0 in /usr/local/lib/python3.10/dist-packages (from google-auth-oauthlib<2,>=0.5->tensorboard<2.16,>=2.15->tensorflow~=2.4->TensorFlow-privacy) (1.3.1)\n",
            "Requirement already satisfied: charset-normalizer<4,>=2 in /usr/local/lib/python3.10/dist-packages (from requests->kaggle>=1.3.9->tf-models-official~=2.13->TensorFlow-privacy) (3.3.2)\n",
            "Requirement already satisfied: idna<4,>=2.5 in /usr/local/lib/python3.10/dist-packages (from requests->kaggle>=1.3.9->tf-models-official~=2.13->TensorFlow-privacy) (3.6)\n",
            "Requirement already satisfied: MarkupSafe>=2.1.1 in /usr/local/lib/python3.10/dist-packages (from werkzeug>=1.0.1->tensorboard<2.16,>=2.15->tensorflow~=2.4->TensorFlow-privacy) (2.1.3)\n",
            "Requirement already satisfied: webencodings in /usr/local/lib/python3.10/dist-packages (from bleach->kaggle>=1.3.9->tf-models-official~=2.13->TensorFlow-privacy) (0.5.1)\n",
            "Requirement already satisfied: text-unidecode>=1.3 in /usr/local/lib/python3.10/dist-packages (from python-slugify->kaggle>=1.3.9->tf-models-official~=2.13->TensorFlow-privacy) (1.3)\n",
            "Requirement already satisfied: oauthlib>=3.0.0 in /usr/local/lib/python3.10/dist-packages (from requests-oauthlib>=0.7.0->google-auth-oauthlib<2,>=0.5->tensorboard<2.16,>=2.15->tensorflow~=2.4->TensorFlow-privacy) (3.2.2)\n",
            "Building wheels for collected packages: seqeval\n",
            "  Building wheel for seqeval (setup.py) ... \u001b[?25l\u001b[?25hdone\n",
            "  Created wheel for seqeval: filename=seqeval-1.2.2-py3-none-any.whl size=16162 sha256=e5cfdc63bb4f114d4e5740878710939ef5c04752ab7362fc155c0ec775cf0b9b\n",
            "  Stored in directory: /root/.cache/pip/wheels/1a/67/4a/ad4082dd7dfc30f2abfe4d80a2ed5926a506eb8a972b4767fa\n",
            "Successfully built seqeval\n",
            "Installing collected packages: sentencepiece, tensorflow-model-optimization, portalocker, packaging, immutabledict, colorama, sacrebleu, dp-accounting, seqeval, tensorflow-text, tf-models-official, TensorFlow-privacy\n",
            "  Attempting uninstall: packaging\n",
            "    Found existing installation: packaging 23.2\n",
            "    Uninstalling packaging-23.2:\n",
            "      Successfully uninstalled packaging-23.2\n",
            "\u001b[31mERROR: pip's dependency resolver does not currently take into account all the packages that are installed. This behaviour is the source of the following dependency conflicts.\n",
            "lida 0.0.10 requires fastapi, which is not installed.\n",
            "lida 0.0.10 requires kaleido, which is not installed.\n",
            "lida 0.0.10 requires python-multipart, which is not installed.\n",
            "lida 0.0.10 requires uvicorn, which is not installed.\u001b[0m\u001b[31m\n",
            "\u001b[0mSuccessfully installed TensorFlow-privacy-0.8.12 colorama-0.4.6 dp-accounting-0.4.3 immutabledict-2.2.5 packaging-22.0 portalocker-2.8.2 sacrebleu-2.4.0 sentencepiece-0.1.99 seqeval-1.2.2 tensorflow-model-optimization-0.7.5 tensorflow-text-2.15.0 tf-models-official-2.15.0\n"
          ]
        }
      ],
      "source": [
        "pip install TensorFlow-privacy"
      ]
    },
    {
      "cell_type": "code",
      "execution_count": null,
      "metadata": {
        "colab": {
          "base_uri": "https://localhost:8080/"
        },
        "id": "hRAyUC9dCkxj",
        "outputId": "d3b370f2-d691-4c6f-a61b-08e8e1fb054a"
      },
      "outputs": [
        {
          "output_type": "stream",
          "name": "stdout",
          "text": [
            "2.1.0+cu121 0.16.0+cu121\n"
          ]
        }
      ],
      "source": [
        "%matplotlib inline\n",
        "\n",
        "import numpy as np\n",
        "from pprint import pprint\n",
        "\n",
        "from PIL import Image\n",
        "import matplotlib.pyplot as plt\n",
        "\n",
        "import torch\n",
        "import torch.nn as nn\n",
        "import torch.nn.functional as F\n",
        "from torch.autograd import grad\n",
        "import torchvision\n",
        "from torchvision import models, datasets, transforms\n",
        "torch.manual_seed(50)\n",
        "\n",
        "print(torch.__version__, torchvision.__version__)\n",
        "import cv2\n",
        "import random\n",
        "import os"
      ]
    },
    {
      "cell_type": "code",
      "execution_count": null,
      "metadata": {
        "id": "eCu2jSIAm8bR"
      },
      "outputs": [],
      "source": [
        "from tensorflow_privacy.privacy.analysis.compute_noise_from_budget_lib import compute_noise"
      ]
    },
    {
      "cell_type": "code",
      "execution_count": null,
      "metadata": {
        "colab": {
          "base_uri": "https://localhost:8080/",
          "height": 681
        },
        "id": "5yEyjBUcSDbp",
        "outputId": "4d2be6d7-18ba-41f3-ac50-56f294a65ec1"
      },
      "outputs": [
        {
          "output_type": "stream",
          "name": "stdout",
          "text": [
            "Collecting matplotlib==3.1.3\n",
            "  Downloading matplotlib-3.1.3.tar.gz (40.9 MB)\n",
            "\u001b[2K     \u001b[90m━━━━━━━━━━━━━━━━━━━━━━━━━━━━━━━━━━━━━━━━\u001b[0m \u001b[32m40.9/40.9 MB\u001b[0m \u001b[31m252.3 kB/s\u001b[0m eta \u001b[36m0:00:00\u001b[0m\n",
            "\u001b[?25h  Preparing metadata (setup.py) ... \u001b[?25l\u001b[?25hdone\n",
            "Requirement already satisfied: cycler>=0.10 in /usr/local/lib/python3.10/dist-packages (from matplotlib==3.1.3) (0.12.1)\n",
            "Requirement already satisfied: kiwisolver>=1.0.1 in /usr/local/lib/python3.10/dist-packages (from matplotlib==3.1.3) (1.4.5)\n",
            "Requirement already satisfied: pyparsing!=2.0.4,!=2.1.2,!=2.1.6,>=2.0.1 in /usr/local/lib/python3.10/dist-packages (from matplotlib==3.1.3) (3.1.1)\n",
            "Requirement already satisfied: python-dateutil>=2.1 in /usr/local/lib/python3.10/dist-packages (from matplotlib==3.1.3) (2.8.2)\n",
            "Requirement already satisfied: numpy>=1.11 in /usr/local/lib/python3.10/dist-packages (from matplotlib==3.1.3) (1.23.5)\n",
            "Requirement already satisfied: six>=1.5 in /usr/local/lib/python3.10/dist-packages (from python-dateutil>=2.1->matplotlib==3.1.3) (1.16.0)\n",
            "Building wheels for collected packages: matplotlib\n",
            "  Building wheel for matplotlib (setup.py) ... \u001b[?25l\u001b[?25hdone\n",
            "  Created wheel for matplotlib: filename=matplotlib-3.1.3-cp310-cp310-linux_x86_64.whl size=11756975 sha256=7c6524ed7083a4af6ccea484bd59b490314ad7f928176102e6d273d4723ec929\n",
            "  Stored in directory: /root/.cache/pip/wheels/a7/83/5a/c704868d367ace343ac89b928f3d937313a5b5fb5731483705\n",
            "Successfully built matplotlib\n",
            "Installing collected packages: matplotlib\n",
            "  Attempting uninstall: matplotlib\n",
            "    Found existing installation: matplotlib 3.7.1\n",
            "    Uninstalling matplotlib-3.7.1:\n",
            "      Successfully uninstalled matplotlib-3.7.1\n",
            "\u001b[31mERROR: pip's dependency resolver does not currently take into account all the packages that are installed. This behaviour is the source of the following dependency conflicts.\n",
            "lida 0.0.10 requires fastapi, which is not installed.\n",
            "lida 0.0.10 requires kaleido, which is not installed.\n",
            "lida 0.0.10 requires python-multipart, which is not installed.\n",
            "lida 0.0.10 requires uvicorn, which is not installed.\n",
            "arviz 0.15.1 requires matplotlib>=3.2, but you have matplotlib 3.1.3 which is incompatible.\n",
            "mizani 0.9.3 requires matplotlib>=3.5.0, but you have matplotlib 3.1.3 which is incompatible.\n",
            "plotnine 0.12.4 requires matplotlib>=3.6.0, but you have matplotlib 3.1.3 which is incompatible.\n",
            "seaborn 0.13.1 requires matplotlib!=3.6.1,>=3.4, but you have matplotlib 3.1.3 which is incompatible.\n",
            "tensorflow-privacy 0.8.12 requires matplotlib~=3.3, but you have matplotlib 3.1.3 which is incompatible.\u001b[0m\u001b[31m\n",
            "\u001b[0mSuccessfully installed matplotlib-3.1.3\n"
          ]
        },
        {
          "output_type": "display_data",
          "data": {
            "application/vnd.colab-display-data+json": {
              "pip_warning": {
                "packages": [
                  "matplotlib",
                  "mpl_toolkits"
                ]
              }
            }
          },
          "metadata": {}
        }
      ],
      "source": [
        "pip install matplotlib==3.1.3"
      ]
    },
    {
      "cell_type": "markdown",
      "metadata": {
        "id": "VRqRaJFX5Hxv"
      },
      "source": [
        "# **モデルの復元**"
      ]
    },
    {
      "cell_type": "code",
      "execution_count": null,
      "metadata": {
        "colab": {
          "base_uri": "https://localhost:8080/"
        },
        "id": "uweAhadAkQY3",
        "outputId": "2968dacd-1648-40b7-cf8b-4adb1df60797"
      },
      "outputs": [
        {
          "output_type": "stream",
          "name": "stdout",
          "text": [
            "Downloading http://yann.lecun.com/exdb/mnist/train-images-idx3-ubyte.gz\n",
            "Downloading http://yann.lecun.com/exdb/mnist/train-images-idx3-ubyte.gz to ./data/MNIST/raw/train-images-idx3-ubyte.gz\n"
          ]
        },
        {
          "output_type": "stream",
          "name": "stderr",
          "text": [
            "100%|██████████| 9912422/9912422 [00:00<00:00, 112848987.82it/s]\n"
          ]
        },
        {
          "output_type": "stream",
          "name": "stdout",
          "text": [
            "Extracting ./data/MNIST/raw/train-images-idx3-ubyte.gz to ./data/MNIST/raw\n",
            "\n",
            "Downloading http://yann.lecun.com/exdb/mnist/train-labels-idx1-ubyte.gz\n",
            "Downloading http://yann.lecun.com/exdb/mnist/train-labels-idx1-ubyte.gz to ./data/MNIST/raw/train-labels-idx1-ubyte.gz\n"
          ]
        },
        {
          "output_type": "stream",
          "name": "stderr",
          "text": [
            "100%|██████████| 28881/28881 [00:00<00:00, 123481848.95it/s]\n"
          ]
        },
        {
          "output_type": "stream",
          "name": "stdout",
          "text": [
            "Extracting ./data/MNIST/raw/train-labels-idx1-ubyte.gz to ./data/MNIST/raw\n",
            "\n",
            "Downloading http://yann.lecun.com/exdb/mnist/t10k-images-idx3-ubyte.gz\n",
            "Downloading http://yann.lecun.com/exdb/mnist/t10k-images-idx3-ubyte.gz to ./data/MNIST/raw/t10k-images-idx3-ubyte.gz\n"
          ]
        },
        {
          "output_type": "stream",
          "name": "stderr",
          "text": [
            "100%|██████████| 1648877/1648877 [00:00<00:00, 32292200.43it/s]\n"
          ]
        },
        {
          "output_type": "stream",
          "name": "stdout",
          "text": [
            "Extracting ./data/MNIST/raw/t10k-images-idx3-ubyte.gz to ./data/MNIST/raw\n",
            "\n",
            "Downloading http://yann.lecun.com/exdb/mnist/t10k-labels-idx1-ubyte.gz\n",
            "Downloading http://yann.lecun.com/exdb/mnist/t10k-labels-idx1-ubyte.gz to ./data/MNIST/raw/t10k-labels-idx1-ubyte.gz\n"
          ]
        },
        {
          "output_type": "stream",
          "name": "stderr",
          "text": [
            "100%|██████████| 4542/4542 [00:00<00:00, 6619363.71it/s]\n"
          ]
        },
        {
          "output_type": "stream",
          "name": "stdout",
          "text": [
            "Extracting ./data/MNIST/raw/t10k-labels-idx1-ubyte.gz to ./data/MNIST/raw\n",
            "\n"
          ]
        }
      ],
      "source": [
        "transform = transforms.Compose(\n",
        "    [transforms.ToTensor()])\n",
        "trainset = torchvision.datasets.MNIST(root='./data',\n",
        "                                        train=True,\n",
        "                                        download=True,\n",
        "                                        transform=transform)\n",
        "trainloader = torch.utils.data.DataLoader(trainset,\n",
        "                                            batch_size=100,\n",
        "                                            shuffle=True,\n",
        "                                            num_workers=2)\n",
        "\n",
        "testset = torchvision.datasets.MNIST(root='./data',\n",
        "                                        train=False,\n",
        "                                        download=True,\n",
        "                                        transform=transform)\n",
        "testloader = torch.utils.data.DataLoader(testset,\n",
        "                                            batch_size=100,\n",
        "                                            shuffle=False,\n",
        "                                            num_workers=2)"
      ]
    },
    {
      "cell_type": "code",
      "execution_count": null,
      "metadata": {
        "id": "RZjPsW6icrxd"
      },
      "outputs": [],
      "source": [
        "class Net1(nn.Module):\n",
        "    def __init__(self):\n",
        "        super(Net1, self).__init__()\n",
        "        self.conv1 = nn.Conv2d(1, 32, 3) # 28x28x32 -> 26x26x32\n",
        "        self.conv2 = nn.Conv2d(32, 64, 3) # 26x26x64 -> 24x24x64\n",
        "        self.fc1 = nn.Linear(24 * 24 * 64, 128)\n",
        "        self.fc2 = nn.Linear(128, 10)\n",
        "\n",
        "    def forward(self, x):\n",
        "        x = self.conv1(x)\n",
        "        x = self.conv2(x)\n",
        "        x = x.view(-1, 24 * 24 * 64)\n",
        "        x = self.fc1(x)\n",
        "        x = self.fc2(x)\n",
        "        return  x"
      ]
    },
    {
      "cell_type": "code",
      "execution_count": null,
      "metadata": {
        "colab": {
          "base_uri": "https://localhost:8080/"
        },
        "id": "btJvrAVY-2WD",
        "outputId": "6cbfb34f-5498-45f4-a26a-ae4e55e9fe19"
      },
      "outputs": [
        {
          "output_type": "stream",
          "name": "stdout",
          "text": [
            "Mounted at /content/drive\n"
          ]
        }
      ],
      "source": [
        "from google.colab import drive\n",
        "drive.mount('/content/drive')"
      ]
    },
    {
      "cell_type": "code",
      "execution_count": null,
      "metadata": {
        "colab": {
          "base_uri": "https://localhost:8080/"
        },
        "id": "GzyR5x8J5PSK",
        "outputId": "b6a060b3-2fb5-46c7-fdcf-6a087cd8d361"
      },
      "outputs": [
        {
          "output_type": "execute_result",
          "data": {
            "text/plain": [
              "<All keys matched successfully>"
            ]
          },
          "metadata": {},
          "execution_count": 203
        }
      ],
      "source": [
        "model = Net1()\n",
        "directory = '' #モデルパスを指定\n",
        "filename = ''\n",
        "E = 16\n",
        "D = 1e-5\n",
        "target = os.path.join(directory,filename)\n",
        "model.load_state_dict(torch.load(target))"
      ]
    },
    {
      "cell_type": "markdown",
      "metadata": {
        "id": "3LCegrzasXxb"
      },
      "source": [
        "# **テスト精度**\n"
      ]
    },
    {
      "cell_type": "code",
      "execution_count": null,
      "metadata": {
        "colab": {
          "base_uri": "https://localhost:8080/"
        },
        "id": "JGjpGMvCGy-1",
        "outputId": "45392e5f-93c3-4518-9ffd-ac314e02386f"
      },
      "outputs": [
        {
          "output_type": "stream",
          "name": "stdout",
          "text": [
            "Accuracy: 76.05 %%\n"
          ]
        }
      ],
      "source": [
        "model.eval()\n",
        "correct = 0\n",
        "total = 0\n",
        "\n",
        "with torch.no_grad():\n",
        "  for (images, labels) in testloader:\n",
        "    output = model(images)\n",
        "    _, predicted = torch.max(output.data, 1)\n",
        "    total += labels.size(0)\n",
        "    correct += (predicted == labels).sum().item()\n",
        "\n",
        "print('Accuracy: {:.2f} %%'.format(100 * float(correct/total)))"
      ]
    },
    {
      "cell_type": "markdown",
      "metadata": {
        "id": "2qI2F9VVsacp"
      },
      "source": [
        "# **Deep leakage**"
      ]
    },
    {
      "cell_type": "code",
      "execution_count": null,
      "metadata": {
        "id": "wjRSiyFtC7z1"
      },
      "outputs": [],
      "source": [
        "def cross_entropy_for_onehot(pred, target):\n",
        "  return torch.mean(torch.sum(- target * F.log_softmax(pred, dim=-1), 1))\n",
        "\n",
        "criterion = cross_entropy_for_onehot"
      ]
    },
    {
      "cell_type": "code",
      "execution_count": null,
      "metadata": {
        "id": "pRbUvGjlxJka"
      },
      "outputs": [],
      "source": [
        "dst = datasets.MNIST(\"~/.torch\", download=True)\n",
        "tp = transforms.Compose([\n",
        "    transforms.Resize(size=(28, 28)),\n",
        "    transforms.ToTensor()\n",
        "])\n",
        "tt = transforms.ToPILImage()\n",
        "\n",
        "num_classes = 10\n",
        "channel = 1\n",
        "hidden = 588"
      ]
    },
    {
      "cell_type": "code",
      "execution_count": null,
      "metadata": {
        "id": "ZCE8TJnlApmY"
      },
      "outputs": [],
      "source": [
        "class Attacks(nn.Module):\n",
        "  def __init__(self,DL_param):\n",
        "    super(Attacks, self).__init__()\n",
        "    self.model = DL_param['model']\n",
        "    self.num = DL_param['num']\n",
        "    self.dst = DL_param['data']\n",
        "    self.DP = DL_param['DP']\n",
        "    self.sigma = DL_param['sigma']\n",
        "\n",
        "    self.criterion = DL_param['criterion']\n",
        "    self.MSE = []\n",
        "    self.DL_result = []\n",
        "    self.DL_full_result = []\n",
        "\n",
        "\n",
        "  def Dammy(self,gt_data, gt_onehot_label ,original_dy_dx):\n",
        "    # generate dummy data and label\n",
        "    dummy_data = torch.randn(gt_data.size()).requires_grad_(True)\n",
        "    dummy_label = torch.randn(gt_onehot_label.size()).requires_grad_(True)\n",
        "    return dummy_data,dummy_label\n",
        "\n",
        "  def Attack(self ,dummy_data, dummy_label, original_dy_dx):\n",
        "    tt = transforms.ToPILImage()\n",
        "    optimizer = torch.optim.LBFGS([dummy_data, dummy_label] )\n",
        "    history = []\n",
        "    long_his = []\n",
        "    for iters in range(100):\n",
        "      def closure():\n",
        "        optimizer.zero_grad()\n",
        "\n",
        "        pred = self.model(dummy_data)\n",
        "        dummy_onehot_label = F.softmax(dummy_label, dim=-1)\n",
        "        dummy_loss = self.criterion(pred, dummy_onehot_label) # TODO: fix the gt_label to dummy_label in both code and slides.\n",
        "\n",
        "        dummy_dy_dx = torch.autograd.grad(dummy_loss, self.model.parameters(), create_graph=True)\n",
        "\n",
        "        grad_diff = 0\n",
        "        grad_count = 0\n",
        "        for gx, gy in zip(dummy_dy_dx, original_dy_dx): # TODO: fix the variablas here\n",
        "            grad_diff += ((gx - gy) ** 2).sum()\n",
        "            grad_count += gx.nelement()\n",
        "        # grad_diff = grad_diff / grad_count * 1000\n",
        "        grad_diff.backward()\n",
        "\n",
        "        return grad_diff\n",
        "      optimizer.step(closure)\n",
        "      long_his.append(tt(dummy_data[0]))\n",
        "    history.append(tt(dummy_data[0]))\n",
        "    return history, long_his\n",
        "\n",
        "  def Analysis(self,history, image):\n",
        "    true = np.array(image)\n",
        "    fake = np.array(history[0])\n",
        "\n",
        "    return (cv2.quality.QualityMSE_compute(fake, true))[0][0]\n",
        "\n",
        "\n",
        "  def label_to_onehot(self,target, num_classes=10):\n",
        "    target = torch.unsqueeze(target, 1)\n",
        "    onehot_target = torch.zeros(target.size(0), num_classes, device=target.device)\n",
        "    onehot_target.scatter_(1, target, 1)\n",
        "    return onehot_target\n",
        "\n",
        "  def gaussian_noise(self, data_shape, s, sigma):\n",
        "    \"\"\" Gaussian noise \"\"\"\n",
        "    return torch.normal(0, sigma * s, data_shape)\n",
        "\n",
        "  def Target(self):\n",
        "    ######### honest partipant #########\n",
        "    tp = transforms.Compose([\n",
        "    transforms.Resize(size=(28, 28)),\n",
        "    transforms.ToTensor()\n",
        "    ])\n",
        "\n",
        "    true_label = []\n",
        "\n",
        "    img_index = random.randrange(29999)\n",
        "    img_index = 22627\n",
        "    image = self.dst[img_index][0]\n",
        "    gt_data = tp(self.dst[img_index][0])\n",
        "    gt_data = gt_data.view(1, *gt_data.size())\n",
        "    gt_label = torch.Tensor([self.dst[img_index][1]]).long()\n",
        "    true_label.append(gt_label)\n",
        "    gt_label = gt_label.view(1, )\n",
        "    gt_onehot_label = self.label_to_onehot(gt_label, num_classes=10)\n",
        "\n",
        "\n",
        "    clipped_grads = {name: torch.zeros_like(param) for name, param in self.model.named_parameters()}#new\n",
        "\n",
        "    # compute original gradient\n",
        "    out = self.model(gt_data)\n",
        "    y = self.criterion(out, gt_onehot_label)\n",
        "    dy_dx = torch.autograd.grad(y, self.model.parameters())\n",
        "\n",
        "    clip_vals = []\n",
        "    for p in (dy_dx):\n",
        "      clip_vals = torch.median(torch.abs(p))\n",
        "    if self.DP == 1:\n",
        "        # bound l2 sensitivity (gradient clipping)\n",
        "        # clip each of the gradient in the \"Lot\"\n",
        "      torch.nn.utils.clip_grad_norm_(dy_dx, max_norm = clip_vals)\n",
        "      # add Gaussian noise\n",
        "      for param in dy_dx:\n",
        "        param += self.gaussian_noise(param.shape, clip_vals, self.sigma)\n",
        "\n",
        "    clip_vals2 = []\n",
        "    print(\"After adding noise\")\n",
        "    for i in range(self.num):\n",
        "      print(i,\"times\")\n",
        "      # share the gradients with other clients\n",
        "      original_dy_dx = list((_.detach().clone() for _ in dy_dx))\n",
        "      dummy_data,dummy_label = self.Dammy(gt_data, gt_onehot_label ,original_dy_dx)\n",
        "      history, long_his = self.Attack(dummy_data, dummy_label ,original_dy_dx)\n",
        "      self.DL_result.append(history)\n",
        "      self.DL_full_result.append(long_his)\n",
        "      self.MSE.append(self.Analysis(history, image))\n",
        "    return self.MSE, self.DL_result, self.DL_full_result\n",
        "\n"
      ]
    },
    {
      "cell_type": "code",
      "execution_count": null,
      "metadata": {
        "id": "Y9q8-cJ0l_D8"
      },
      "outputs": [],
      "source": [
        "q = 0.001  #DP用パラメータ\n",
        "epsilon = E  #DP用パラメータ\n",
        "delta = D #DP用パラメータ"
      ]
    },
    {
      "cell_type": "code",
      "execution_count": null,
      "metadata": {
        "colab": {
          "base_uri": "https://localhost:8080/"
        },
        "id": "EAu2i6DIl-ei",
        "outputId": "1ee87d16-a2e6-4406-86ea-bf4c4ec0a168"
      },
      "outputs": [
        {
          "output_type": "stream",
          "name": "stdout",
          "text": [
            "DP-SGD with sampling rate = 0.1% and noise_multiplier = 0.3356222243429145 iterated over 1000 steps satisfies differential privacy with eps = 16 and delta = 1e-05.\n"
          ]
        }
      ],
      "source": [
        "sigma = compute_noise(1, q, epsilon, 1, delta, 1e-5)"
      ]
    },
    {
      "cell_type": "code",
      "execution_count": null,
      "metadata": {
        "id": "fidV2Bevr_m5"
      },
      "outputs": [],
      "source": [
        "DL_param = {'model':model,\n",
        "           'num':5,\n",
        "           'data':dst,\n",
        "           'tp':tp,\n",
        "           'tt':tt,\n",
        "           'criterion':criterion,\n",
        "           'DP':1,\n",
        "            'sigma':sigma\n",
        "           }"
      ]
    },
    {
      "cell_type": "code",
      "execution_count": null,
      "metadata": {
        "id": "9O4Q6ztJv9z_"
      },
      "outputs": [],
      "source": [
        "fl_entity = Attacks(DL_param)"
      ]
    },
    {
      "cell_type": "code",
      "execution_count": null,
      "metadata": {
        "colab": {
          "base_uri": "https://localhost:8080/"
        },
        "id": "1HyITUNEMVDX",
        "outputId": "7c2892f3-bdd4-4bce-db28-7ac6db6af68e"
      },
      "outputs": [
        {
          "output_type": "stream",
          "name": "stdout",
          "text": [
            "After adding noise\n",
            "0 times\n",
            "1 times\n",
            "2 times\n",
            "3 times\n",
            "4 times\n"
          ]
        }
      ],
      "source": [
        "score,pic,fullpic = fl_entity.Target()"
      ]
    },
    {
      "cell_type": "code",
      "execution_count": null,
      "metadata": {
        "id": "SM5QIjmFuID4",
        "colab": {
          "base_uri": "https://localhost:8080/"
        },
        "outputId": "7e2a631c-94f5-4d21-a46f-c002df0a6a2f"
      },
      "outputs": [
        {
          "output_type": "stream",
          "name": "stdout",
          "text": [
            "[]\n"
          ]
        }
      ],
      "source": [
        "index = []\n",
        "for i in range(len(score)):\n",
        "  if score[i] < 2500:\n",
        "    index.append(i)\n",
        "print(index)"
      ]
    },
    {
      "cell_type": "code",
      "execution_count": null,
      "metadata": {
        "id": "uNfUOf_OY0Bq",
        "colab": {
          "base_uri": "https://localhost:8080/"
        },
        "outputId": "fa05c077-6875-4398-9af1-9c9ff783972d"
      },
      "outputs": [
        {
          "output_type": "stream",
          "name": "stdout",
          "text": [
            "success_rate: 0.0 %\n"
          ]
        }
      ],
      "source": [
        "sum = 0\n",
        "for i in range(len(score)):\n",
        "  if score[i] < 2500:\n",
        "    sum += 1\n",
        "\n",
        "print(\"success_rate:\",(sum/25)*100,\"%\" )"
      ]
    },
    {
      "cell_type": "code",
      "execution_count": null,
      "metadata": {
        "id": "GrDZP_d8ZNEd"
      },
      "outputs": [],
      "source": [
        "for i in range(len(score)):\n",
        "  if score[i] < 10000:\n",
        "    print(i,score[i])"
      ]
    },
    {
      "cell_type": "code",
      "source": [
        "from google.colab import files"
      ],
      "metadata": {
        "id": "a_LwSk2lZEpa"
      },
      "execution_count": null,
      "outputs": []
    },
    {
      "cell_type": "code",
      "source": [
        "pip install --upgrade matplotlib"
      ],
      "metadata": {
        "colab": {
          "base_uri": "https://localhost:8080/"
        },
        "id": "OJ2yWDJ5bX_N",
        "outputId": "d786ddbd-ded3-449f-b390-1cced44564b4"
      },
      "execution_count": null,
      "outputs": [
        {
          "output_type": "stream",
          "name": "stdout",
          "text": [
            "Requirement already satisfied: matplotlib in /usr/local/lib/python3.10/dist-packages (3.8.2)\n",
            "Requirement already satisfied: contourpy>=1.0.1 in /usr/local/lib/python3.10/dist-packages (from matplotlib) (1.2.0)\n",
            "Requirement already satisfied: cycler>=0.10 in /usr/local/lib/python3.10/dist-packages (from matplotlib) (0.12.1)\n",
            "Requirement already satisfied: fonttools>=4.22.0 in /usr/local/lib/python3.10/dist-packages (from matplotlib) (4.47.2)\n",
            "Requirement already satisfied: kiwisolver>=1.3.1 in /usr/local/lib/python3.10/dist-packages (from matplotlib) (1.4.5)\n",
            "Requirement already satisfied: numpy<2,>=1.21 in /usr/local/lib/python3.10/dist-packages (from matplotlib) (1.23.5)\n",
            "Requirement already satisfied: packaging>=20.0 in /usr/local/lib/python3.10/dist-packages (from matplotlib) (22.0)\n",
            "Requirement already satisfied: pillow>=8 in /usr/local/lib/python3.10/dist-packages (from matplotlib) (9.4.0)\n",
            "Requirement already satisfied: pyparsing>=2.3.1 in /usr/local/lib/python3.10/dist-packages (from matplotlib) (3.1.1)\n",
            "Requirement already satisfied: python-dateutil>=2.7 in /usr/local/lib/python3.10/dist-packages (from matplotlib) (2.8.2)\n",
            "Requirement already satisfied: six>=1.5 in /usr/local/lib/python3.10/dist-packages (from python-dateutil>=2.7->matplotlib) (1.16.0)\n"
          ]
        }
      ]
    },
    {
      "cell_type": "code",
      "source": [
        "direc = '/content/drive/MyDrive/DEEP_FL/PDF'\n",
        "savepath = os.path.join(direc, filename)"
      ],
      "metadata": {
        "id": "FfQKLySubCkc"
      },
      "execution_count": null,
      "outputs": []
    },
    {
      "cell_type": "code",
      "source": [
        "plt.figure(figsize=(12, 8))\n",
        "for i in range(DL_param['num']):\n",
        "  plt.subplot(1, 10, i + 1)\n",
        "  plt.imshow(pic[i][0])\n",
        "  plt.title(\"iter=%d\" % (i))\n",
        "  plt.axis('off')"
      ],
      "metadata": {
        "colab": {
          "base_uri": "https://localhost:8080/",
          "height": 138
        },
        "id": "VsDH27WVtXfp",
        "outputId": "a44d3321-e659-4e18-bffd-624bb6c7770f"
      },
      "execution_count": null,
      "outputs": [
        {
          "output_type": "display_data",
          "data": {
            "text/plain": [
              "<Figure size 1200x800 with 5 Axes>"
            ],
            "image/png": "[encoded data removed]"
          },
          "metadata": {}
        }
      ]
    },
    {
      "cell_type": "code",
      "source": [
        "score"
      ],
      "metadata": {
        "colab": {
          "base_uri": "https://localhost:8080/"
        },
        "id": "I_1LMQtrusd2",
        "outputId": "b4a7789d-7b90-4d41-d5a8-11ce00a977fb"
      },
      "execution_count": null,
      "outputs": [
        {
          "output_type": "execute_result",
          "data": {
            "text/plain": [
              "[23995.284438775507,\n",
              " 21236.927295918365,\n",
              " 19888.427295918365,\n",
              " 23995.284438775507,\n",
              " 20844.514030612245]"
            ]
          },
          "metadata": {},
          "execution_count": 220
        }
      ]
    },
    {
      "cell_type": "code",
      "source": [
        "picnum = 0\n",
        "plt.figure(figsize=(12, 8))\n",
        "for i in range(10):\n",
        "  plt.subplot(3, 11, i + 1)\n",
        "  plt.imshow(fullpic[picnum][i * 10])\n",
        "  plt.title(\"iter=%d\" % (i * 10))\n",
        "  plt.axis('off')\n",
        "  plt.savefig(savepath, format='pdf')\n",
        "files.download(savepath)"
      ],
      "metadata": {
        "colab": {
          "base_uri": "https://localhost:8080/",
          "height": 130
        },
        "id": "LUYpx4FQp5ff",
        "outputId": "4aaa99e1-20c0-4f59-c67b-52f0c79eba94"
      },
      "execution_count": null,
      "outputs": [
        {
          "output_type": "display_data",
          "data": {
            "text/plain": [
              "<IPython.core.display.Javascript object>"
            ],
            "application/javascript": [
              "\n",
              "    async function download(id, filename, size) {\n",
              "      if (!google.colab.kernel.accessAllowed) {\n",
              "        return;\n",
              "      }\n",
              "      const div = document.createElement('div');\n",
              "      const label = document.createElement('label');\n",
              "      label.textContent = `Downloading \"${filename}\": `;\n",
              "      div.appendChild(label);\n",
              "      const progress = document.createElement('progress');\n",
              "      progress.max = size;\n",
              "      div.appendChild(progress);\n",
              "      document.body.appendChild(div);\n",
              "\n",
              "      const buffers = [];\n",
              "      let downloaded = 0;\n",
              "\n",
              "      const channel = await google.colab.kernel.comms.open(id);\n",
              "      // Send a message to notify the kernel that we're ready.\n",
              "      channel.send({})\n",
              "\n",
              "      for await (const message of channel.messages) {\n",
              "        // Send a message to notify the kernel that we're ready.\n",
              "        channel.send({})\n",
              "        if (message.buffers) {\n",
              "          for (const buffer of message.buffers) {\n",
              "            buffers.push(buffer);\n",
              "            downloaded += buffer.byteLength;\n",
              "            progress.value = downloaded;\n",
              "          }\n",
              "        }\n",
              "      }\n",
              "      const blob = new Blob(buffers, {type: 'application/binary'});\n",
              "      const a = document.createElement('a');\n",
              "      a.href = window.URL.createObjectURL(blob);\n",
              "      a.download = filename;\n",
              "      div.appendChild(a);\n",
              "      a.click();\n",
              "      div.remove();\n",
              "    }\n",
              "  "
            ]
          },
          "metadata": {}
        },
        {
          "output_type": "display_data",
          "data": {
            "text/plain": [
              "<IPython.core.display.Javascript object>"
            ],
            "application/javascript": [
              "download(\"download_f21779c6-aff0-41e5-bb3a-7ca3657be52f\", \"C_EP3E16D30.pth\", 68383)"
            ]
          },
          "metadata": {}
        },
        {
          "output_type": "display_data",
          "data": {
            "text/plain": [
              "<Figure size 1200x800 with 10 Axes>"
            ],
            "image/png": "[encoded data removed]"
          },
          "metadata": {}
        }
      ]
    },
    {
      "cell_type": "code",
      "source": [
        "direc = '/content/drive/MyDrive/DEEP_FL/PDF2/'\n",
        "savepath2 = os.path.join(direc, filename)"
      ],
      "metadata": {
        "id": "4fhLtFxpcfHD"
      },
      "execution_count": null,
      "outputs": []
    },
    {
      "cell_type": "code",
      "source": [
        "plt.imshow(pic[picnum][0])\n",
        "plt.axis('off')\n",
        "plt.savefig(savepath2, format='pdf')\n",
        "files.download(savepath2)"
      ],
      "metadata": {
        "colab": {
          "base_uri": "https://localhost:8080/",
          "height": 406
        },
        "id": "JmtC0BhveP6E",
        "outputId": "fa6beeb3-a5e4-4416-bfc7-d9419c1fcd31"
      },
      "execution_count": null,
      "outputs": [
        {
          "output_type": "display_data",
          "data": {
            "text/plain": [
              "<IPython.core.display.Javascript object>"
            ],
            "application/javascript": [
              "\n",
              "    async function download(id, filename, size) {\n",
              "      if (!google.colab.kernel.accessAllowed) {\n",
              "        return;\n",
              "      }\n",
              "      const div = document.createElement('div');\n",
              "      const label = document.createElement('label');\n",
              "      label.textContent = `Downloading \"${filename}\": `;\n",
              "      div.appendChild(label);\n",
              "      const progress = document.createElement('progress');\n",
              "      progress.max = size;\n",
              "      div.appendChild(progress);\n",
              "      document.body.appendChild(div);\n",
              "\n",
              "      const buffers = [];\n",
              "      let downloaded = 0;\n",
              "\n",
              "      const channel = await google.colab.kernel.comms.open(id);\n",
              "      // Send a message to notify the kernel that we're ready.\n",
              "      channel.send({})\n",
              "\n",
              "      for await (const message of channel.messages) {\n",
              "        // Send a message to notify the kernel that we're ready.\n",
              "        channel.send({})\n",
              "        if (message.buffers) {\n",
              "          for (const buffer of message.buffers) {\n",
              "            buffers.push(buffer);\n",
              "            downloaded += buffer.byteLength;\n",
              "            progress.value = downloaded;\n",
              "          }\n",
              "        }\n",
              "      }\n",
              "      const blob = new Blob(buffers, {type: 'application/binary'});\n",
              "      const a = document.createElement('a');\n",
              "      a.href = window.URL.createObjectURL(blob);\n",
              "      a.download = filename;\n",
              "      div.appendChild(a);\n",
              "      a.click();\n",
              "      div.remove();\n",
              "    }\n",
              "  "
            ]
          },
          "metadata": {}
        },
        {
          "output_type": "display_data",
          "data": {
            "text/plain": [
              "<IPython.core.display.Javascript object>"
            ],
            "application/javascript": [
              "download(\"download_94ae92be-4cf4-46d7-ac73-022abf9e028e\", \"C_EP3E16D30.pth\", 3943)"
            ]
          },
          "metadata": {}
        },
        {
          "output_type": "display_data",
          "data": {
            "text/plain": [
              "<Figure size 640x480 with 1 Axes>"
            ],
            "image/png": "[encoded data removed]"
          },
          "metadata": {}
        }
      ]
    },
    {
      "cell_type": "code",
      "source": [
        "E- 2：22515.611\n",
        "E- 4：22515.611\n",
        "E- 8：22515.611\n",
        "E- 16：21897.13647\n",
        "E- 50:16817.978316\n",
        "E-100:6780.841836"
      ],
      "metadata": {
        "colab": {
          "base_uri": "https://localhost:8080/",
          "height": 148
        },
        "id": "FO13bfaJ4OVE",
        "outputId": "aef0d375-24fe-4a72-9f4f-8dd94cc9679b"
      },
      "execution_count": null,
      "outputs": [
        {
          "output_type": "error",
          "ename": "SyntaxError",
          "evalue": "invalid decimal literal (<ipython-input-199-99f0789e110e>, line 1)",
          "traceback": [
            "\u001b[0;36m  File \u001b[0;32m\"<ipython-input-199-99f0789e110e>\"\u001b[0;36m, line \u001b[0;32m1\u001b[0m\n\u001b[0;31m    E- 2：22515.611\u001b[0m\n\u001b[0m       ^\u001b[0m\n\u001b[0;31mSyntaxError\u001b[0m\u001b[0;31m:\u001b[0m invalid decimal literal\n"
          ]
        }
      ]
    },
    {
      "cell_type": "code",
      "source": [],
      "metadata": {
        "id": "iGVsZTLkzPVN"
      },
      "execution_count": null,
      "outputs": []
    }
  ],
  "metadata": {
    "colab": {
      "provenance": [],
      "gpuType": "T4"
    },
    "kernelspec": {
      "display_name": "Python 3",
      "name": "python3"
    },
    "language_info": {
      "name": "python"
    },
    "accelerator": "GPU"
  },
  "nbformat": 4,
  "nbformat_minor": 0
}